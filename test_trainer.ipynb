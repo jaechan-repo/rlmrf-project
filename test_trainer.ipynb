{
 "cells": [
  {
   "cell_type": "code",
   "execution_count": 1,
   "metadata": {},
   "outputs": [
    {
     "name": "stderr",
     "output_type": "stream",
     "text": [
      "/mmfs1/gscratch/ark/chan0369/env/py3.10/lib/python3.10/site-packages/tqdm/auto.py:21: TqdmWarning: IProgress not found. Please update jupyter and ipywidgets. See https://ipywidgets.readthedocs.io/en/stable/user_install.html\n",
      "  from .autonotebook import tqdm as notebook_tqdm\n",
      "Resolving data files: 100%|██████████| 20/20 [00:00<00:00, 24.61it/s]\n"
     ]
    }
   ],
   "source": [
    "from datasets import load_dataset\n",
    "\n",
    "train_dataset = load_dataset(\"lvwerra/stack-exchange-paired\", data_dir=\"data/reward\", split=\"train\")"
   ]
  },
  {
   "cell_type": "code",
   "execution_count": 2,
   "metadata": {},
   "outputs": [
    {
     "data": {
      "text/plain": [
       "{'qid': 538868,\n",
       " 'question': \"I have a question to those who are really proficient in MHD generation. There exist some claims that degree of interaction between flowing molecules (gases) and ions on one hand and flowing molecules (gases) and electrons on other hand is vastly different. Therefore movement of ions in a gas flow will occur much faster than movement of free electrons. If this is correct then why we need to use a strong magnets to separate ions and electrons in MHD generator? If speed of the ions and electrons movement in the same gas flow is vastly different then doesn't charge separation suppose to occur by itself just due to a gas flow? Shouldn't majority of electrons concentrate at the beginning of the duct while many more ions at the end? Then only thing we need to generate current is to put an electrode at the beginning of the duct and another one at the end and let electrons flow from the inside of the duct through the external load to the end of the duct and recombine with ions there? And no need for a magnets.\",\n",
       " 'date': '2020/03/27',\n",
       " 'metadata': ['https://physics.stackexchange.com/questions/538868',\n",
       "  'https://physics.stackexchange.com',\n",
       "  'https://physics.stackexchange.com/users/225219/'],\n",
       " 'response_j': 'In the absence of a magnetic field the velocity of the ions and electrons in a gas will be on average exactly that of the gas.\\nno net charge will be transferred.\\n\\nThe magnetic field is needed to make the charged particles move differently to the fluid and to separate based on their charge between the electrodes.\\n\\nMHD works basically the same as a homopolar generator except that the rotor is replaced with a conductive fluid',\n",
       " 'response_k': 'Can MHD work on \"cold plasma\"? Is there any efficient and technically feasible ways to create a lot of cold plasma in water vapor for example (which is a one of main component of combustion exhaust)? What about electric discharges or some radiation (lasers, microwaves)? What about dissociating water vapor to ions rater than ionizing it? May it require smaller amount of energy? There are claims that 1% of water vapor are ions at 2500 C. Could electric discharges significantly increase number of positive and negative ions?'}"
      ]
     },
     "execution_count": 2,
     "metadata": {},
     "output_type": "execute_result"
    }
   ],
   "source": [
    "train_dataset[0]"
   ]
  },
  {
   "cell_type": "code",
   "execution_count": null,
   "metadata": {},
   "outputs": [],
   "source": [
    "if script_args.train_subset > 0:\n",
    "    train_dataset = train_dataset.select(range(script_args.train_subset))\n",
    "eval_dataset = load_dataset(\"lvwerra/stack-exchange-paired\", data_dir=\"data/evaluation\", split=\"train\")\n",
    "if script_args.eval_subset > 0:\n",
    "    eval_dataset = eval_dataset.select(range(script_args.eval_subset))\n",
    "# Define the training args. Needs to be done before the model is loaded if you are using deepspeed.\n",
    "model_name_split = script_args.model_name.split(\"/\")[-1]\n",
    "output_name = (\n",
    "    f\"{model_name_split}_peft_stack-exchange-paired_rmts__{script_args.train_subset}_{script_args.learning_rate}\"\n",
    ")"
   ]
  }
 ],
 "metadata": {
  "kernelspec": {
   "display_name": "Python 3",
   "language": "python",
   "name": "python3"
  },
  "language_info": {
   "codemirror_mode": {
    "name": "ipython",
    "version": 3
   },
   "file_extension": ".py",
   "mimetype": "text/x-python",
   "name": "python",
   "nbconvert_exporter": "python",
   "pygments_lexer": "ipython3",
   "version": "3.10.13"
  }
 },
 "nbformat": 4,
 "nbformat_minor": 2
}
