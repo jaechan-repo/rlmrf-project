{
 "cells": [
  {
   "cell_type": "code",
   "execution_count": 3,
   "metadata": {},
   "outputs": [],
   "source": [
    "import json\n",
    "\n",
    "INPUT_FILE = \"aokvqa_pred_baseline.json\"\n",
    "OUTPUT_FILE = \"conv_\" + INPUT_FILE\n",
    "\n",
    "with open(INPUT_FILE, 'r') as f:\n",
    "    data = json.load(f)\n",
    "\n",
    "data_converted = {}\n",
    "for line in data:\n",
    "    data_converted.update(line)\n",
    "\n",
    "with open(OUTPUT_FILE, 'w') as f:\n",
    "    json.dump(data_converted, f)"
   ]
  },
  {
   "cell_type": "code",
   "execution_count": null,
   "metadata": {},
   "outputs": [],
   "source": []
  }
 ],
 "metadata": {
  "kernelspec": {
   "display_name": "Python 3",
   "language": "python",
   "name": "python3"
  },
  "language_info": {
   "codemirror_mode": {
    "name": "ipython",
    "version": 3
   },
   "file_extension": ".py",
   "mimetype": "text/x-python",
   "name": "python",
   "nbconvert_exporter": "python",
   "pygments_lexer": "ipython3",
   "version": "3.10.13"
  }
 },
 "nbformat": 4,
 "nbformat_minor": 2
}
