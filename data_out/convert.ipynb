{
 "cells": [
  {
   "cell_type": "code",
   "execution_count": 4,
   "metadata": {},
   "outputs": [],
   "source": [
    "import json\n",
    "\n",
    "INPUT_FILE = \"aokvqa_pred_baseline.json\"\n",
    "OUTPUT_FILE = \"conv_\" + INPUT_FILE\n",
    "\n",
    "with open(INPUT_FILE, 'r') as f:\n",
    "    data = json.load(f)\n",
    "\n",
    "data_converted = {}\n",
    "for line in data:\n",
    "    data_converted.update(line)\n",
    "\n",
    "with open(OUTPUT_FILE, 'w') as f:\n",
    "    json.dump(data_converted, f)"
   ]
  },
  {
   "cell_type": "code",
   "execution_count": 5,
   "metadata": {},
   "outputs": [],
   "source": [
    "INPUT_FILE = \"aokvqa_pred_baseline.json\"\n",
    "OUTPUT_FILE = \"conv_\" + INPUT_FILE\n",
    "\n",
    "with open(INPUT_FILE, 'r') as f:\n",
    "    data = json.load(f)\n",
    "\n",
    "data_converted = {}\n",
    "for key, value in data.items():\n",
    "    data_converted[key] = {\n",
    "        \"direct_answer\": value[\"direct_answer\"]\n",
    "    }\n",
    "\n",
    "with open(OUTPUT_FILE, 'w') as f:\n",
    "    json.dump(data_converted, f)"
   ]
  },
  {
   "cell_type": "code",
   "execution_count": 12,
   "metadata": {},
   "outputs": [
    {
     "data": {
      "text/plain": [
       "1"
      ]
     },
     "execution_count": 12,
     "metadata": {},
     "output_type": "execute_result"
    }
   ],
   "source": [
    "from spacy.lang.en import English\n",
    "import re\n",
    "from typing import List\n",
    "\n",
    "# Reinitialize Spacy's English model with sentencizer due to code execution reset\n",
    "nlp = English()\n",
    "nlp.add_pipe('sentencizer')\n",
    "\n",
    "def split_in_sentences(text: str) -> List[str]:\n",
    "    \"\"\" Split the text into sentences. \"\"\"\n",
    "    return [str(sent).strip() for sent in nlp(text).sents]\n",
    "\n",
    "def find_correct_answer(response):\n",
    "    \"\"\"\n",
    "    Identify the sentence containing \"correct answer\" and parse the letter.\n",
    "    \"\"\"\n",
    "    sentence_list = split_in_sentences(response)\n",
    "    for sentence in sentence_list:\n",
    "        if \"correct answer\" in sentence.lower():\n",
    "            # Regular expression to find the letter in various formats\n",
    "            match = re.search(r\"\\b[A-Z]\\b\", sentence)\n",
    "            if match:\n",
    "                # Convert the letter to zero-based index\n",
    "                return ord(match.group().upper()) - ord('A')\n",
    "    # Default return 0 if answer not found\n",
    "    return 0\n",
    "\n",
    "# Example text\n",
    "example_text = \"There were many questions. B is the correct answer But some thought it was C.\"\n",
    "\n",
    "# Splitting the text into sentences and finding the correct answer\n",
    "answer_index = find_correct_answer(example_text)\n",
    "answer_index\n",
    "\n"
   ]
  },
  {
   "cell_type": "code",
   "execution_count": null,
   "metadata": {},
   "outputs": [],
   "source": []
  }
 ],
 "metadata": {
  "kernelspec": {
   "display_name": "Python 3",
   "language": "python",
   "name": "python3"
  },
  "language_info": {
   "codemirror_mode": {
    "name": "ipython",
    "version": 3
   },
   "file_extension": ".py",
   "mimetype": "text/x-python",
   "name": "python",
   "nbconvert_exporter": "python",
   "pygments_lexer": "ipython3",
   "version": "3.10.13"
  }
 },
 "nbformat": 4,
 "nbformat_minor": 2
}
